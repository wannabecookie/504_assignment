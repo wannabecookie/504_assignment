{
 "cells": [
  {
   "cell_type": "markdown",
   "id": "e7b928eb-112f-4c0b-ab96-bbaf3d7adfd1",
   "metadata": {},
   "source": [
    "# Lecture03 assignment"
   ]
  },
  {
   "cell_type": "markdown",
   "id": "4903e543-e665-4586-ae42-e2d0a5e1db80",
   "metadata": {},
   "source": [
    "## Question 1: Creating a Retirement Savings Calculator\n",
    "You are tasked with creating a Python program (retirement_calculator.py) that calculates the total amount of money a person will have saved by the time they reach retirement age. The calculation should take into account their monthly earnings and monthly spending. The program should be divided into sub-functions to handle specific parts of the calculation. Additionally, the program should accept the necessary input values (current age, retirement age, monthly earnings, and monthly spending) via command-line arguments using sys.argv. (in total 20 points)\n",
    "\n",
    "#### Detailed Steps:\n",
    "\n",
    "1. __Sub-Function 1: calculate_annual_earnings__\n",
    "\n",
    "    - Write a function named calculate_annual_earnings that takes one parameter: monthly_earnings.\n",
    "    - The function should return the total earnings for the year.\n",
    "      \n",
    "   (4 points)\n",
    "\n",
    "2. __Sub-Function 2: calculate_annual_spending__\n",
    "    - Write a function named calculate_annual_spending that takes one parameter: monthly_spending.\n",
    "    - The function should return the total spending for the year.\n",
    "    (4 points)\n",
    "\n",
    "3. __Sub-Function 3: calculate_net_savings__\n",
    "    - Write a function named calculate_net_savings that takes two parameters: annual_earnings and annual_spending.\n",
    "    - The function should return the net savings for the year.\n",
    "    (4 points)\n",
    "\n",
    "4. __Main Function: calculate_retirement_savings__\n",
    "    - Write a main function named calculate_retirement_savings that takes four parameters: current_age, retirement_age, monthly_earnings, and monthly_spending.\n",
    "    - The function should:\n",
    "        1. Calculate the number of years until retirement.\n",
    "        2. Use the calculate_annual_earnings function to determine the annual earnings.\n",
    "        3. Use the calculate_annual_spending function to determine the annual spending.\n",
    "        4. Use the calculate_net_savings function to determine the net savings for each year.\n",
    "        5. Calculate the net savings by the number of years until retirement to get the total savings by retirement age.\n",
    "    - The function should return the total savings by the time the person retires.\n",
    "    (4 points)\n",
    "5. __Command-Line Argument Handling:__\n",
    "    - Import the sys module to handle command-line arguments.\n",
    "    - Modify the program to retrieve the following inputs from sys.argv:\n",
    "        1. current_age: The current age of the person.\n",
    "        2. retirement_age: The age at which the person plans to retire.\n",
    "        3. monthly_earnings: The amount the person earns per month.\n",
    "        4. monthly_spending: The amount the person spends per month.\n",
    "    - Ensure that the program correctly parses the input values as integers or floats as needed.\n",
    "    (4 points)"
   ]
  },
  {
   "cell_type": "code",
   "execution_count": null,
   "id": "a10e5952-e053-4621-a69c-8bc40eda20f8",
   "metadata": {},
   "outputs": [],
   "source": [
    "## Guide in retirement_calculator.py\n",
    "# Sub-function to calculate total annual earnings\n",
    "def calculate_annual_earnings(monthly_earnings):\n",
    "    yr_earnings = monthly_earnings * 12\n",
    "    return yr_earnings\n",
    "\n",
    "\n",
    "# Sub-function to calculate total annual spending\n",
    "def calculate_annual_spending(monthly_spendings):\n",
    "    yr_spending  = monthly_spendings * 12\n",
    "    return yr_spending\n",
    "    \n",
    "\n",
    "# Sub-function to calculate net annual savings\n",
    "def calculate_net_savings(annual_earnings, annual_spending):\n",
    "    net_saving = annual_earnings - annual_spending\n",
    "    return net_saving\n",
    "    \n",
    "\n",
    "# Main function to calculate total retirement savings\n",
    "def calculate_retirement_savings(current_age, retirement_age, monthly_earnings, monthly_spending):\n",
    "    yr_till_retired = retirement_age - current_age\n",
    "    annual_earning = calculate_annual_earnings(monthly_earnings)\n",
    "    annual_spending = calculate_annual_spending(monthly_spending)\n",
    "    annual_net_saving = calculate_net_savings(annual_earning, annual_spending)\n",
    "    retirement_savings = yr_till_retired * annual_net_saving\n",
    "    return retirement_savings\n",
    "\n",
    "import sys\n",
    "\n",
    "current_age = int(sys.argv[1])\n",
    "retirement_age = int(sys.argv[2])\n",
    "monthly_earnings = float(sys.argv[3])\n",
    "monthly_spending = float(sys.argv[4])\n",
    "\n",
    "total_savings = calculate_retirement_savings(current_age, retirement_age, monthly_earnings, monthly_spending)\n",
    "\n",
    "# Calculate and print the total savings by retirement\n",
    "print(f\"Total savings by retirement (age {current_age} to {retirement_age}): ${total_savings:,.2f}\")\n"
   ]
  },
  {
   "cell_type": "code",
   "execution_count": null,
   "id": "433ec70e-fe8c-4c28-8017-fe8eba74b846",
   "metadata": {},
   "outputs": [],
   "source": [
    "%%bash\n",
    "python retirement_calculator.py <current_age> <retirement_age> <monthly_earnings> <monthly_spending>\n"
   ]
  },
  {
   "cell_type": "code",
   "execution_count": 1,
   "id": "02314dcf-e95e-4301-b5b5-2e2c6035c9c4",
   "metadata": {},
   "outputs": [
    {
     "name": "stdout",
     "output_type": "stream",
     "text": [
      "Total savings by retirement (age 43 to 65): $5280000.00\n"
     ]
    }
   ],
   "source": [
    "%%bash\n",
    "python retirement_calculator.py 43 65 40000 20000"
   ]
  }
 ],
 "metadata": {
  "kernelspec": {
   "display_name": "Python 3 (ipykernel)",
   "language": "python",
   "name": "python3"
  },
  "language_info": {
   "codemirror_mode": {
    "name": "ipython",
    "version": 3
   },
   "file_extension": ".py",
   "mimetype": "text/x-python",
   "name": "python",
   "nbconvert_exporter": "python",
   "pygments_lexer": "ipython3",
   "version": "3.13.5"
  },
  "vscode": {
   "interpreter": {
    "hash": "9330ba964d102915f672e494ab5ebf017635cb7c58a7043edb93f11c0e585d73"
   }
  }
 },
 "nbformat": 4,
 "nbformat_minor": 5
}
