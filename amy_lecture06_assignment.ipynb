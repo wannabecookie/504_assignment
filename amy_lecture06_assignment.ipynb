{
 "cells": [
  {
   "cell_type": "markdown",
   "id": "e5e9dcba-ab5f-43b9-9cb4-f47b2698f11a",
   "metadata": {},
   "source": [
    "## Lecture 06 Assignment"
   ]
  },
  {
   "cell_type": "markdown",
   "id": "502bb8a7-183e-4223-accd-c7c80356b56b",
   "metadata": {},
   "source": [
    "#### 1. Find Numbers with Regular Expression\n",
    "Write a Python function find_numbers(text) that takes a string and returns a list of all numbers found in the text. (2 points)\n",
    "\n",
    "Hint:\n",
    "\n",
    "Use the pattern to match digits.\n"
   ]
  },
  {
   "cell_type": "code",
   "execution_count": 185,
   "id": "cc830249-5e36-4d9e-a168-ab976d9e4be0",
   "metadata": {},
   "outputs": [],
   "source": [
    "# Input text\n",
    "import re\n",
    "\n",
    "def find_numbers(text):\n",
    "    return re.findall(r\"\\d\", text)\n"
   ]
  },
  {
   "cell_type": "code",
   "execution_count": 186,
   "id": "01f37b5c-1fda-4976-b490-3bf407392b16",
   "metadata": {},
   "outputs": [
    {
     "name": "stdout",
     "output_type": "stream",
     "text": [
      "['2', '1', '4', '3', '5', '6']\n"
     ]
    }
   ],
   "source": [
    "## Expected outcome\n",
    "text = \"I have 2 kiwis, 1 mango, 4 grapes, 3 pineapples, 5 bananas, and 6 oranges.\"\n",
    "print(find_numbers(text))"
   ]
  },
  {
   "cell_type": "markdown",
   "id": "5359a6ba-d989-4a5f-83b3-10e5cdd5a4b3",
   "metadata": {},
   "source": [
    "---"
   ]
  },
  {
   "cell_type": "markdown",
   "id": "f0ceaebe-77d5-416e-96bd-ef97b999c0e9",
   "metadata": {},
   "source": [
    "#### 2. Find words with Regular Expression\n",
    "Write a Python function **extract_short_fruits(sentence)** that takes a sentence and returns a list of all the fruit names that are shorter than 7 letters. (2 points)\n",
    "\n",
    "Hint:\n",
    "\n",
    "- Use regular expressions to match and extract words that are between 1 to 6 characters long.\n",
    "- Focus on filtering out only the fruit names that are less than 7 letters in length.\n"
   ]
  },
  {
   "cell_type": "code",
   "execution_count": 187,
   "id": "c8ddbb2c-28dd-4eb4-af44-9dca207a4b1b",
   "metadata": {},
   "outputs": [],
   "source": [
    "import re\n",
    "\n",
    "def extract_short_fruits(sentence):\n",
    "    out = []\n",
    "    pattern = r\"(\\d) (\\w{1,6})\\b\" \n",
    "    for fruit in re.findall(pattern, sentence):\n",
    "        out.append(fruit[1])\n",
    "    return out"
   ]
  },
  {
   "cell_type": "code",
   "execution_count": 189,
   "id": "d424ca95-f29a-42bb-9d06-cf67d1e7eea5",
   "metadata": {},
   "outputs": [
    {
     "name": "stdout",
     "output_type": "stream",
     "text": [
      "['kiwis', 'mango', 'grapes']\n"
     ]
    }
   ],
   "source": [
    "## Expected outcome\n",
    "text = \"I have 2 kiwis, 1 mango, 4 grapes, 3 pineapples, 5 bananas, and 6 oranges.\"\n",
    "print(extract_short_fruits(text))"
   ]
  },
  {
   "cell_type": "markdown",
   "id": "f0dab47c-6172-446f-bf05-ad8c89affe08",
   "metadata": {},
   "source": [
    "---"
   ]
  },
  {
   "cell_type": "markdown",
   "id": "73f6ce8e-ac65-483e-b243-25983eb24f2e",
   "metadata": {},
   "source": [
    "#### 3. Validate Email Format with Regular Expression\n",
    "Write a Python function **validate_email(email)** that checks if a given string follows an email format **username@domain.extension**. The domain consists of letters and digits, and the extension is either **.edu** or **.ac.th**. The output will return as a boolean type. (3 points)\n",
    "\n",
    "Hint:\n",
    "\n",
    "The username should consist of letters, digits, dot, and underscores, followed by the @ symbol and a domain name with either **.edu** or **.ac.th**. \n"
   ]
  },
  {
   "cell_type": "code",
   "execution_count": 190,
   "id": "ebba30d6-d4a0-469c-8a59-9a1c16dc2901",
   "metadata": {},
   "outputs": [],
   "source": [
    "import re\n",
    "\n",
    "def validate_email(email):\n",
    "    pattern = r\"\\w+\\.\\w+@\\w+.(edu|ac\\.th)\"\n",
    "    return bool(re.match(pattern, email))\n"
   ]
  },
  {
   "cell_type": "code",
   "execution_count": 191,
   "id": "744db822-8167-434e-9a55-1b9c4e79b478",
   "metadata": {},
   "outputs": [
    {
     "name": "stdout",
     "output_type": "stream",
     "text": [
      "piroon.jen@mahidol.edu True\n",
      "piroon.jen@mahidol.ac.th True\n",
      "piroon.jen@mahidol.com False\n"
     ]
    }
   ],
   "source": [
    "# Example usage\n",
    "email = \"piroon.jen@mahidol.edu\"\n",
    "print(email,validate_email(email))\n",
    "\n",
    "email = \"piroon.jen@mahidol.ac.th\"\n",
    "print(email,validate_email(email))\n",
    "\n",
    "email = \"piroon.jen@mahidol.com\"\n",
    "print(email,validate_email(email))"
   ]
  },
  {
   "cell_type": "markdown",
   "id": "e16b327c-4de7-49ea-b615-54647ea28bd6",
   "metadata": {},
   "source": [
    "#### 4. Extract Dates using Regular Expression\n",
    "Write a Python function **extract_dates(text)** that takes a string containing multiple dates in different formats (e.g., **12/05/2024**, **2024-08-25**, **August 25, 2024**) and extracts all the dates. The function should return a list of strings where each string is a date found in the input. (3 points)\n",
    "\n",
    "\n",
    "Hint:\n",
    "\n",
    "Use regular expressions to match various date formats such as **DD/MM/YYYY**, **YYYY-MM-DD**, and **Month DD, YYYY**."
   ]
  },
  {
   "cell_type": "code",
   "execution_count": 192,
   "id": "76bc350f-1e7d-49b4-947d-82eb0c541201",
   "metadata": {},
   "outputs": [],
   "source": [
    "import re\n",
    "\n",
    "def extract_dates(text):\n",
    "    pattern = r\"\\d{2}\\/\\d{2}\\/\\d{4}|\\d{4}\\-\\d{2}\\-\\d{2}|\\w+ \\d{2}\\, \\d{4}\"\n",
    "    dates = re.findall(pattern, text)\n",
    "    return dates\n"
   ]
  },
  {
   "cell_type": "code",
   "execution_count": 193,
   "id": "46896722-ff00-47e4-a383-170923327c14",
   "metadata": {},
   "outputs": [
    {
     "name": "stdout",
     "output_type": "stream",
     "text": [
      "['12/05/2024', '2024-08-25', 'August 25, 2024']\n"
     ]
    }
   ],
   "source": [
    "## expected output\n",
    "# Input text\n",
    "text = \"I have two dates: 12/05/2024 and 2024-08-25, and another one is August 25, 2024.\"\n",
    "print(extract_dates(text))"
   ]
  },
  {
   "cell_type": "markdown",
   "id": "608793ab-d5ef-4cdd-8833-df3d920f4ea8",
   "metadata": {},
   "source": [
    "---"
   ]
  },
  {
   "cell_type": "markdown",
   "id": "7aa8ee78-49c6-47c8-83fe-4fc07de41c14",
   "metadata": {},
   "source": [
    "#### 5. Identifying Restriction Enzyme Target Sequences using Regular Expression\n",
    "Create a Python function to search and return the list of the restriction enzyme's target sequence from \"seq1\" (Input). The following is input, information, an example of a command, and its output. (5 points)\n",
    "\n",
    "_Hint: dictionary, re.finditer, for, if, list_\n",
    "\n",
    "**Additional information**\n",
    "\n",
    "Restriction enzyme target sequences:\n",
    "```\n",
    "EcoRI   = 'GAATTC'\n",
    "BamHI   = 'GGATCC'\n",
    "HindIII = 'AAGCTT'\n",
    "AasI    = 'GACNNNNNNGTC'\n",
    "AccB2I  = 'RGCGCY'\n",
    "AceI    = 'GCWGC'\n",
    "```\n",
    "\n",
    "IUPAC nucleotide code:\n",
    "```\n",
    "A = Adenine\n",
    "T = Thymine\n",
    "C = Cytosine\n",
    "G = Guanine\n",
    "N = A, T, C, or G\n",
    "R = A or G\n",
    "Y = C or T\n",
    "W = A or T\n",
    "```\n",
    "\n",
    "**Input sequence**"
   ]
  },
  {
   "cell_type": "code",
   "execution_count": 143,
   "id": "74faefc4-6e01-4f03-b4b6-5a818ceea961",
   "metadata": {},
   "outputs": [
    {
     "name": "stdout",
     "output_type": "stream",
     "text": [
      "5000\n"
     ]
    }
   ],
   "source": [
    "# input sequence 5000 bases\n",
    "seq1 = 'TCAGGTAAAGCATCCTACTACCTTCCCACGTTTGCACACCTGGCGGTTCCAAAGCGCTTAGTGCTCGCTCAATCTACTCGAACACCACCCTGACTGCTCGTCACAGTCCCAGTGTAAAATTAGTCAACGTGTTGGGATGGTGTGTAACCTTTGCTCACAGAGGAGTTCCGCGTCCGGACTAGTCATGGGGTATTACAGGACATCGGTGTCGCTACAACCAAGGTCGTGGAAACGGGATCGGATCTTTCGCCATACAAGGATGCCTTAACGCGGGTCCCTGATTCCTCAAGTCCCTCAAACATTGAATGTCGTGTCCTCGGGCCGGACTGCGGATAGCCACGTGATTACTATGCATTATACAACACTTGTACATGTTCGAGTTCGCGCTGAGACACTATAATTAGTGGCTTAGCCGATCCGCATCAACGCATAGTATACTCAAATCAAAGTTCTCCGGATGGACCTGCTTAGGCCGGCTCCAAGCCTCATATCTGACAGTTATAACCTATATTCACCCTTTAATACGATTGGGCCGGAATTCTCTCTCGCATTCTTAAATCCGACGTTGGCCAGTGAGTACCAAGTATTCAAGGTTATTCTGCCTCCCCATCTGGAATTTTACAATTCACGCTGCATCGAACCATGAGACTTTTAAAACGAACTTAAATGTACCCTAAATACGCCTCGTGTGATCGCTCTCCCTGCCCTCATCTTGACAAAATTTCGGTGGCACAATAGAGTGATCCCTACCAGTGCGAGTAGGTAACATTGGCGCGCGACGAGGCTTGCACATTGTCGGGAGAGCGCTTCCTCGTGGGCAGCTTAGCTAATCTCCGTCAAAGATTGATTTATTTAGCCCGTCACCAACAGATTAGGCAATGGGATTATGGGCGTCCACGCCATTTGTTTAACAAGAACCTTACGCCAAGCTGCTGTTTCATTGCTTCGGCCAGGCCTACGGGACCACATGTGGTACTTGTTGGCGCCGTAATAGCCATCAGGCTCGCGAGTTGGCTGCCATTCTAGACTAGGCGTAATGCGACCGTACCCCGCATGCATAAGCGAGGGGTGTCCCAGTCGCGCACGCCTTTCACGGCGTGTGCCTCGTTGAGTACATCGCCTAAGCTCCACAGGGTTCGTCGTTTGTGTACTTCTTCGAACCTGACTTACAATTATCTACCCGGTACCCCAAGCACACAGAGGGGGCATTGCCGACTGTGCATGCTGATAAGTGATTTTTACTCTCAAGGGCGTAGGGGCCCTCTGTTGCGTCGTCTGATTACGGACTTATGTTTAGCTATTCGCACGTGCTGTCAATACGGCTTCACACGGCTGCGGCAGGATAGCCTGTCCGTTGATCTTCATCGGTAAAAAGATTCGATCTGAGCGTGTGGATCCGTAAACTTGTGGGCACTGGTTTAGTGCCAACGAACGGGTTGTCCCGGGGTTATGTCCAGACGTGCTAGTTACCAGACGCGGTAATTCTTGACCCTATTAATCTATCTTGCCAGGCTGCCATTTCATAAATGCCTTGAGTCCCATGAATCTTATAGACGCGGAGGACTTTGGAGGGTGTTCACAGTTACCCTCCCCCAATTGTTCTGTACTTTAGATATAGCTCCACATCAGACGACTTGGATGTCTGGGATGGGCTTTGTCAATTCGCTGCTCAGTTCCTTTCAACCATCCGGATTATCGACCTCTGATTAAACACATTCATAAATGCTGGCATCCACCCAGGCTAGATCGTCCTGCCCTATGGATCCGGGGCGCCAGACAAGCTGGGCTATCCCAAAAACATCGTTTCTTAGTTCCCATTCGCGGAGTCAGCATGGGGGGAAGTCCTACCCAATACCTACTAAAGAGGGAAAATGCAGATGCATAAAACCCATTGGGACAGATAATATATCTCTAGACCATGTCCATCAAACAAGAGAACTGACGGCACGGTTGTTTTTAAAAACTGCTTCGCGCGCAAACGAAGGCCGCCTACGTGAAAAATGCCTATCATAGGTACAGAAGCAACCATTAGATGATGTTCTTACGAAACACTCAGTCAGCTCAAATACCGCCGCTGGTGCCGCCATTCCATCGAAATGACTCAGTTGATCCTAGTATTATGTGGTGCGACGAAGGGTCGACTTGCCAGCAAAGACCTCTTGGTGAATAAATAGTGGGCCCAGGGAGGGAGCGGCTATTTCGCTACAGGAACTGATTCTCCCATGGTCTATGTGCGCAGGCTCGGACACTACCCCCGCGTGGTGGCTTACACTGATTAGAAATGGAACTCCCCTGAGCGCCGATCGTGTCTATTCGAGGTCGACTTTTGATTCGCACCGAGCAACCGGTACTGATCGGGCCATGGGTACGGTGGGAATGGCAAGCTTAATCTGTTGAAAAGGGGCCACCTCGTCGTGAAGCGCCTGCTAACGTATCTTTCGGATTAGCTCATGCAACGCGCCAAGAATTTGGAATGACCTATACTCCAACGCGGATACTGATCGACGGCCCATTCTCCATTGTACATCATATCTCTACCTTCTTTGAGTTCGCAGCGCTCGAATTTTCTCGCCATCAACCTGGGGAGATGTCCGGAAACAACGACTCCCACCGTCTATGTATCTTAACCTACAGGAGCGCTTCGTAAAGATATGTTTGTAAAGAGAGAAAATCTGGATGGCATTTACTGTGCATAATTCGTATTAACCATAGTCCGCAAGCCGAGATTCCCCAAGGCAGGCGGTTCAAGTTACTATGGAAAGATGAAGAGTATCACCTTGATTAGTGAACCGGTTTTATCGAGATTGTGATTGTACCTAACCTGAAACAGCGGTCTTGCATTCCGCGTGCATCAACATTAATAGCTTAGAATACGATAGAATGTGCTGTGAGAAAAGGTTGCTCTAAAGGATGACAATTGAAGAGCGGGTTGAGTGAGCCCGGAAGAGTGCTATGCTCCAGACTGACGCGAGTCACCGTCACCAAACTCTGCGTTAATACTTGGGTACCTTAGTGGCTCCGATAGTCTACGCGCAAGAACGAACAATGACTATCTAGAACGATGCCAGTAGCGTGATAGCGATAGGGTCCTTAGGACTAGCTCAGGTTTGAACAACCATGTCCTCCGCGGCGATCTTCATTGTACCAGAGCAATGGGATCTTTCGACACCCGTGGCCGCCATACAGCCACCAAGGTACGGTCCGTAGCTACTGTATCTGGTGTAGGAGGCGTAGCTGAGCTCACTCGCAGTTGGACAGACCCCCTTTGTCAATTCTTTCAAAATTGATATACCAAGTTCTTTCTTATTGGAGAGTCGCACTTCGCGATTTCCGTCGCATTGATCCCCAACTCGGCATATTCATAGTCACCTAACCCAGATCTACTGTACGCCTCGTACTGATTCCTCGACAGAGCTCGGGCCAACATGGAACTCATGATGAGTCGACCACAGGCCTCATTCGCCTGTGGACCAGGTGCCTGAAGGGATCCGTTGAAGTTCTATCCATGAGGATTCTCTAGACTTTCATTGTGGTTTACTGGGGCTACGCCCAGGCCACCTGAGCCTGGTATCCTACGACCGGAGGTTCATTAGAGCTGCCAAAATGGGGCTCGGCCAATTCATCATAACTTGGGTCATGCATTGATCGCTACTGGGTAGCCGGGCCCGTGATCGCCTCCCCATTCCCGGTGGGGTCTTGGGTAAAGGAAACGGCCATGCATAAGTCCCCCTTCGCCGTATGCTGGGTACGTAGCCAGCGTAATAGGCTACGTAGCTGATCCTACGTAAGATAAGACGGTTAGAACATGGACAGGGGAGGGCAAACATAGACCCCTCGGTAGAGGGTCAGTCCTGGCCATTCGCACCGCACACTCTGATCTAAAGCCTAAGGCTCGAAGGCATTGTATAAAGATCCCCGTCTGTATTTGTGCAAACAATTCCCTATAGGGTTTTCAGCTGGAACATATCTCGCGGGTAATGCGTAGAGCTATGGTCACCAAAACCCGTATTACAAAGGCTCCGGCGAGCTTCGCAGGTGGAAAAGAAGAACGTCGCCAGCGCTAGCAGCTTGACGAGCAGTGAACAGAGCTCTCAATTGATTTGGCCTAATGTTTCTATAGCTTTGCGGATTAAAATCCGTTAGACGCGGACACGTTAGGGGCATATGTTGGGTACTGCCGGACTCATGACCCTCATGTACTGATCGCATAGCCTTTTGAGTTTGTTGCCAACAAGTTAGACGAGTCGACCAGATGTTCTCCGCTCCTCGTGAAGGCACCCTCCTGTCAAACACAGACCTTAAGACCAGGCAAGCTCCAGGTATAAGCATTATTGCCTATCGCAAACGCGAACGAGCACTGTCTAGGCATCAGCAAGTGGTGTTCAGATCTTTAATCGGTTGCTAAGAGTGGCGAACCAATTCAGTCGCAAATGGCGTTGAACGCACAGTGTATAGCGCAGGGAAAGGCAGGACACAAAGTCAGTCCCCGGTCCGCTGAACCAACGCGTATGGACGCCTTCTCGAACCGCTGATCGCCCATCCCATCCCCATTATCCACTCTGGTAATATAGCAGGTCCTGCAGCGGCGTCATTATAGATTTCGGCTATTGCGCTACATGTGATCACCAGTCCCGAGCCAATTCACTGGATTTCGGGACGATGGCACTGCACTGGGAAGCTGTCTTCGGCAGCAGCTCCGAGTTGCGGGAAGACTATAGAGGCTCGGCTTTAATCCCAAATGTTTGCTAGATGAGGGGCAGCAACGGTTTGTTCGGGCGTGGACAACTCGATGATTATGGCGTCTGGAACGGCCATTTCAGGTAAAAGAGTCATCAGTCCCGAGCGTCATCGATATGCGAACGCTCGCGGTAAAGTTCGGCGTGCGAGGCGAGCCCCCATGGTGGTAACTGGTGCCTGCATCAGTATTATGCACGATCCCATTCGTGGCTTGCAAACCATATGGTAGCGGCAACCAAGCATAGCCAAATAAAACGGAAGAT'\n",
    "print(len(seq1))"
   ]
  },
  {
   "cell_type": "markdown",
   "id": "70ec7e79-b953-490c-a536-6882fdf653dd",
   "metadata": {},
   "source": [
    "**Please complete the function enzTargetsScan**"
   ]
  },
  {
   "cell_type": "code",
   "execution_count": 194,
   "id": "2f9d197d-ba1f-4bad-bea5-bc4d2a9c8de8",
   "metadata": {},
   "outputs": [],
   "source": [
    "import re\n",
    "def enzTargetsScan(seq, enz):\n",
    "    out = []\n",
    "    dict_enz = {\n",
    "        'EcoRI': r'GAATTC',\n",
    "        'BamHI': r'GGATCC',\n",
    "        'HindIII': r'AAGCTT',\n",
    "        'AasI': r'GAC(A|T|G|C){6}GTC',\n",
    "        'AccB2I': r'(A|G)GCGC(C|T)', \n",
    "        'AceI': 'GC(A|T)GC'}\n",
    "    if enz in dict_enz.keys():\n",
    "        pattern = dict_enz.get(enz)\n",
    "        matches = re.finditer(pattern, seq)\n",
    "        for match in matches:\n",
    "            out.append((match.group(), match.start(), match.end()))\n",
    "    return out\n"
   ]
  },
  {
   "cell_type": "markdown",
   "id": "b7645790-393d-402e-89c0-3507bb8eddae",
   "metadata": {},
   "source": [
    "**Exapected output**"
   ]
  },
  {
   "cell_type": "code",
   "execution_count": 195,
   "id": "5ed73d91-c779-4b95-aa34-099616806430",
   "metadata": {},
   "outputs": [
    {
     "name": "stdout",
     "output_type": "stream",
     "text": [
      "EcoRI: [('GAATTC', 535, 541)] \n",
      "\n",
      "BamHI: [('GGATCC', 1392, 1398), ('GGATCC', 1760, 1766), ('GGATCC', 3484, 3490)] \n",
      "\n",
      "HindIII: [('AAGCTT', 2381, 2387)] \n",
      "\n",
      "AccB2I: [('AGCGCT', 52, 58), ('AGCGCT', 802, 808), ('GGCGCC', 981, 987), ('GGCGCC', 1768, 1774), ('AGCGCC', 2295, 2301), ('AGCGCC', 2418, 2424), ('AGCGCT', 2553, 2559), ('AGCGCT', 2635, 2641), ('AGCGCT', 4056, 4062)] \n",
      "\n",
      "AasI: [('GACATCGGTGTC', 198, 210), ('GACTTGGATGTC', 1631, 1643)] \n",
      "\n",
      "AceI: [('GCTGC', 629, 634), ('GCAGC', 817, 822), ('GCTGC', 928, 933), ('GCTGC', 1013, 1018), ('GCTGC', 1331, 1336), ('GCTGC', 1511, 1516), ('GCTGC', 1664, 1669), ('GCAGC', 2551, 2556), ('GCTGC', 3594, 3599), ('GCAGC', 4063, 4068), ('GCAGC', 4579, 4584), ('GCAGC', 4687, 4692), ('GCAGC', 4756, 4761)] \n",
      "\n",
      "HaeIII: []\n",
      "test: []\n"
     ]
    }
   ],
   "source": [
    "## Match sequence, start, end\n",
    "print('EcoRI:',enzTargetsScan(seq1,'EcoRI'),'\\n')\n",
    "print('BamHI:',enzTargetsScan(seq1,'BamHI'),'\\n')\n",
    "print('HindIII:',enzTargetsScan(seq1,'HindIII'),'\\n')\n",
    "print('AccB2I:',enzTargetsScan(seq1,'AccB2I'),'\\n')\n",
    "print('AasI:',enzTargetsScan(seq1,'AasI'),'\\n')\n",
    "print('AceI:',enzTargetsScan(seq1,'AceI'),'\\n')\n",
    "print('HaeIII:',enzTargetsScan(seq1,'HaeIII'))\n",
    "\n",
    "print('test:',enzTargetsScan(seq1,'test'))"
   ]
  },
  {
   "cell_type": "markdown",
   "id": "28794998-9212-4b93-98fe-e1f5353e1805",
   "metadata": {},
   "source": [
    "---"
   ]
  },
  {
   "cell_type": "markdown",
   "id": "093fe9a9-c15d-46a8-a88c-e86b1988b75f",
   "metadata": {},
   "source": [
    "#### 6. Extracting Specific Taxonomic Levels from Taxonomy Strings using Regular Expression\n",
    "Create a Python function to extract and return the list of the given taxonomic level from \"taxonomy\" (Input). The following is input,  an example of a command, and its output. (5 points)\n",
    "\n",
    "_Hint: re.finditer, re.M, for, if, list_"
   ]
  },
  {
   "cell_type": "markdown",
   "id": "81b280e2-0783-4443-a6ff-f978d46f9b88",
   "metadata": {},
   "source": [
    "**Input data**"
   ]
  },
  {
   "cell_type": "code",
   "execution_count": 196,
   "id": "034faf3e-bcfe-44b3-8e88-78dacaf3d7cf",
   "metadata": {},
   "outputs": [],
   "source": [
    "taxonomy = '''d__Bacteria;p__Firmicutes_A;c__Clostridia;o__Clostridiales;f__Clostridiaceae;g__Clostridium_P;s__Clostridium_P perfringens\n",
    "d__Bacteria;p__Proteobacteria;c__Gammaproteobacteria;o__Enterobacterales;f__Pasteurellaceae;g__Haemophilus;s__Haemophilus influenzae\n",
    "d__Bacteria;p__Bacteroidota;c__Bacteroidia;o__Cytophagales;f__Spirosomaceae;g__Spirosoma;s__Spirosoma linguale\n",
    "d__Bacteria;p__Proteobacteria;c__Gammaproteobacteria;o__Pseudomonadales;f__Pseudomonadaceae;g__Pseudomonas;s__Pseudomonas aeruginosa\n",
    "d__Bacteria;p__Campylobacterota;c__Campylobacteria;o__Campylobacterales;f__Helicobacteraceae;g__Helicobacter;s__Helicobacter pylori\n",
    "d__Bacteria;p__Firmicutes;c__Bacilli;o__Lactobacillales;f__Streptococcaceae;g__Streptococcus;s__Streptococcus dysgalactiae\n",
    "d__Bacteria;p__Firmicutes;c__Bacilli;o__Lactobacillales;f__Lactobacillaceae;g__Leuconostoc;s__Leuconostoc inhae\n",
    "d__Bacteria;p__Firmicutes;c__Bacilli;o__Lactobacillales;f__Enterococcaceae;g__Enterococcus;s__Enterococcus faecalis\n",
    "d__Bacteria;p__Firmicutes_A;c__Clostridia;o__Lachnospirales;f__Lachnospiraceae;g__Blautia_A;s__Blautia_A massiliensis\n",
    "d__Bacteria;p__Firmicutes_A;c__Clostridia;o__Lachnospirales;f__Lachnospiraceae;g__Roseburia;s__Roseburia intestinalis\n",
    "d__Bacteria;p__Firmicutes;c__Bacilli;o__Lactobacillales;f__Enterococcaceae;g__Enterococcus;s__Enterococcus faecalis\n",
    "d__Bacteria;p__Proteobacteria;c__Gammaproteobacteria;o__Enterobacterales;f__Enterobacteriaceae;g__Escherichia;s__Escherichia flexneri\n",
    "d__Bacteria;p__Firmicutes;c__Bacilli;o__Lactobacillales;f__Streptococcaceae;g__Streptococcus;s__Streptococcus pneumoniae\n",
    "d__Bacteria;p__Firmicutes;c__Bacilli;o__Lactobacillales;f__Streptococcaceae;g__Streptococcus;s__Streptococcus pneumoniae\n",
    "d__Bacteria;p__Actinobacteriota;c__Actinomycetia;o__Mycobacteriales;f__Mycobacteriaceae;g__Corynebacterium;s__Corynebacterium pseudotuberculosis\n",
    "d__Bacteria;p__Firmicutes;c__Bacilli;o__Lactobacillales;f__Streptococcaceae;g__Streptococcus;s__Streptococcus pneumoniae\n",
    "d__Bacteria;p__Firmicutes;c__Bacilli;o__Lactobacillales;f__Streptococcaceae;g__Streptococcus;s__Streptococcus pneumoniae\n",
    "d__Bacteria;p__Proteobacteria;c__Gammaproteobacteria;o__Enterobacterales;f__Enterobacteriaceae;g__Escherichia;s__Escherichia flexneri\n",
    "d__Bacteria;p__Firmicutes;c__Bacilli;o__Lactobacillales;f__Streptococcaceae;g__Streptococcus;s__Streptococcus pneumoniae\n",
    "'''"
   ]
  },
  {
   "cell_type": "markdown",
   "id": "e79a3ad1-6ac9-461e-9427-69d6e1f90788",
   "metadata": {},
   "source": [
    "**Please complete the function extractOrgNameByTaxa**"
   ]
  },
  {
   "cell_type": "code",
   "execution_count": 197,
   "id": "870e362b-ffe8-42c4-9db2-b493a05c2eea",
   "metadata": {},
   "outputs": [],
   "source": [
    "def extractOrgNameByTaxa(taxonomy, taxa='s'):\n",
    "    out = []\n",
    "    pattern = r\"(\\w)(__)(\\w+ *\\w+)\"\n",
    "    matches = re.finditer(pattern, taxonomy, re.M) # matched\n",
    "\n",
    "    for match in matches:\n",
    "        # print(match.groups())\n",
    "        if match.groups()[0] == taxa: # matched with taxa , added to out\n",
    "            out.append(match.groups()[2])\n",
    "\n",
    "    return out"
   ]
  },
  {
   "cell_type": "markdown",
   "id": "e2029058-4923-4113-8f33-99fd8ddb225a",
   "metadata": {},
   "source": [
    "**Exapected output**"
   ]
  },
  {
   "cell_type": "code",
   "execution_count": 198,
   "id": "d5797495-937d-447d-9b71-6688d5016e54",
   "metadata": {},
   "outputs": [
    {
     "name": "stdout",
     "output_type": "stream",
     "text": [
      "['Clostridium_P perfringens', 'Haemophilus influenzae', 'Spirosoma linguale', 'Pseudomonas aeruginosa', 'Helicobacter pylori', 'Streptococcus dysgalactiae', 'Leuconostoc inhae', 'Enterococcus faecalis', 'Blautia_A massiliensis', 'Roseburia intestinalis', 'Enterococcus faecalis', 'Escherichia flexneri', 'Streptococcus pneumoniae', 'Streptococcus pneumoniae', 'Corynebacterium pseudotuberculosis', 'Streptococcus pneumoniae', 'Streptococcus pneumoniae', 'Escherichia flexneri', 'Streptococcus pneumoniae']\n"
     ]
    }
   ],
   "source": [
    "print(extractOrgNameByTaxa(taxonomy))"
   ]
  },
  {
   "cell_type": "code",
   "execution_count": 199,
   "id": "6c57b75a-f1fd-4452-a563-fa4b710be2f7",
   "metadata": {},
   "outputs": [
    {
     "name": "stdout",
     "output_type": "stream",
     "text": [
      "['Clostridium_P perfringens', 'Haemophilus influenzae', 'Spirosoma linguale', 'Pseudomonas aeruginosa', 'Helicobacter pylori', 'Streptococcus dysgalactiae', 'Leuconostoc inhae', 'Enterococcus faecalis', 'Blautia_A massiliensis', 'Roseburia intestinalis', 'Enterococcus faecalis', 'Escherichia flexneri', 'Streptococcus pneumoniae', 'Streptococcus pneumoniae', 'Corynebacterium pseudotuberculosis', 'Streptococcus pneumoniae', 'Streptococcus pneumoniae', 'Escherichia flexneri', 'Streptococcus pneumoniae']\n"
     ]
    }
   ],
   "source": [
    "print(extractOrgNameByTaxa(taxonomy, 's'))"
   ]
  },
  {
   "cell_type": "code",
   "execution_count": 200,
   "id": "ffbddf9f-5d52-42fe-bcf6-23535e197a05",
   "metadata": {},
   "outputs": [
    {
     "name": "stdout",
     "output_type": "stream",
     "text": [
      "['Clostridium_P', 'Haemophilus', 'Spirosoma', 'Pseudomonas', 'Helicobacter', 'Streptococcus', 'Leuconostoc', 'Enterococcus', 'Blautia_A', 'Roseburia', 'Enterococcus', 'Escherichia', 'Streptococcus', 'Streptococcus', 'Corynebacterium', 'Streptococcus', 'Streptococcus', 'Escherichia', 'Streptococcus']\n"
     ]
    }
   ],
   "source": [
    "print(extractOrgNameByTaxa(taxonomy, 'g'))"
   ]
  },
  {
   "cell_type": "code",
   "execution_count": 201,
   "id": "311933f8-ce04-4610-b12a-8b4874ede724",
   "metadata": {},
   "outputs": [
    {
     "name": "stdout",
     "output_type": "stream",
     "text": [
      "['Clostridiaceae', 'Pasteurellaceae', 'Spirosomaceae', 'Pseudomonadaceae', 'Helicobacteraceae', 'Streptococcaceae', 'Lactobacillaceae', 'Enterococcaceae', 'Lachnospiraceae', 'Lachnospiraceae', 'Enterococcaceae', 'Enterobacteriaceae', 'Streptococcaceae', 'Streptococcaceae', 'Mycobacteriaceae', 'Streptococcaceae', 'Streptococcaceae', 'Enterobacteriaceae', 'Streptococcaceae']\n"
     ]
    }
   ],
   "source": [
    "print(extractOrgNameByTaxa(taxonomy, 'f'))"
   ]
  },
  {
   "cell_type": "code",
   "execution_count": 202,
   "id": "951f8824-cee8-42ec-b835-e6450405b30b",
   "metadata": {},
   "outputs": [
    {
     "name": "stdout",
     "output_type": "stream",
     "text": [
      "d: Bacteria\n",
      "p: Firmicutes_A\n",
      "c: Clostridia\n",
      "o: Clostridiales\n",
      "f: Clostridiaceae\n",
      "g: Clostridium_P\n",
      "s: Clostridium_P perfringens\n"
     ]
    }
   ],
   "source": [
    "for taxa in ['d','p','c','o','f','g','s']:\n",
    "    print(f\"{taxa}:\",extractOrgNameByTaxa(taxonomy, taxa)[0])"
   ]
  },
  {
   "cell_type": "markdown",
   "id": "8829fe70-2b1e-42c1-9f49-c524ea3dca9a",
   "metadata": {},
   "source": [
    "---"
   ]
  }
 ],
 "metadata": {
  "kernelspec": {
   "display_name": "base",
   "language": "python",
   "name": "python3"
  },
  "language_info": {
   "codemirror_mode": {
    "name": "ipython",
    "version": 3
   },
   "file_extension": ".py",
   "mimetype": "text/x-python",
   "name": "python",
   "nbconvert_exporter": "python",
   "pygments_lexer": "ipython3",
   "version": "3.11.5"
  }
 },
 "nbformat": 4,
 "nbformat_minor": 5
}
