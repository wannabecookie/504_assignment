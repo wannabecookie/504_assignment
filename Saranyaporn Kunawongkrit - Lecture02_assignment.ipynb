{
 "cells": [
  {
   "cell_type": "markdown",
   "id": "00298eed-fad3-4e7f-85d9-8342b8fe4db6",
   "metadata": {},
   "source": [
    "## Week02 assignment"
   ]
  },
  {
   "cell_type": "markdown",
   "id": "94757b29-37e2-410c-8ba3-321e5d59c7c7",
   "metadata": {},
   "source": [
    "1. Write a program to print the statement in the output. (2 points)\n",
    "\n",
    "Output:\n",
    "```code\n",
    "SIRE 504 Programming in Bioinformatics Academic Year 2021\n",
    "```"
   ]
  },
  {
   "cell_type": "code",
   "execution_count": 31,
   "id": "13591698-eedb-4bdd-b6be-8a5bd3013556",
   "metadata": {},
   "outputs": [
    {
     "name": "stdout",
     "output_type": "stream",
     "text": [
      "SIRE 504 Programming in Bioinformatics Academic Year 2021\n"
     ]
    }
   ],
   "source": [
    "# Please complete the code below\n",
    "\n",
    "course = \"SIRE\"\n",
    "codeid = 504\n",
    "year = 2021\n",
    "print(course, codeid,'Programming in Bioinformatics Academic Year', year)\n"
   ]
  },
  {
   "cell_type": "markdown",
   "id": "e3a129b7-113b-441d-a511-360ef92af16f",
   "metadata": {},
   "source": [
    "---"
   ]
  },
  {
   "cell_type": "markdown",
   "id": "6165160f-5026-4657-8bce-153898f8f7fe",
   "metadata": {},
   "source": [
    "2. Please add parentheses to the expression code \"1 * 2 + 3 * 4 ** 5 / 6 - 7 // 1\" according to \"operator precedence rules\". (2 points)\n",
    "\n",
    "Example:<br> \n",
    "30 + 2 + 7  = ((30 + 2) + 7)\n",
    "\n",
    "Output: 507.0"
   ]
  },
  {
   "cell_type": "code",
   "execution_count": 32,
   "id": "3be55962-ade4-4e05-ac4d-af261240c1a7",
   "metadata": {},
   "outputs": [
    {
     "data": {
      "text/plain": [
       "507.0"
      ]
     },
     "execution_count": 32,
     "metadata": {},
     "output_type": "execute_result"
    }
   ],
   "source": [
    "# Please add parentheses\n",
    "(((1 * 2) + ((3 * (4 ** 5)) / 6)) - (7 // 1))"
   ]
  },
  {
   "cell_type": "markdown",
   "id": "8145acfc-59fb-4316-b5e8-75d82168fbcc",
   "metadata": {},
   "source": [
    "---"
   ]
  },
  {
   "cell_type": "markdown",
   "id": "ccbadbaf-e72b-4144-acec-fcf119fc75e2",
   "metadata": {},
   "source": [
    "3. Write a Python program that takes a complex mathematical expression from the user, parses it, and evaluates it while clearly demonstrating the operator precedence. The program should print out each step in the order of precedence. (2 points)\n",
    "\n",
    "Example:<br> `expression = \"30 + 2 + 7\"`\n",
    "\n",
    "Output:<br>\n",
    "`step1 = 30 + 2` <br>\n",
    "`result = step1 + 7` <br>\n",
    "`print(\"Step 1 (30 + 2): \", result)` <br>\n",
    "`print(\"Final result: (32 + 7)\", result)` <br>\n"
   ]
  },
  {
   "cell_type": "code",
   "execution_count": 34,
   "id": "fe12ff9a-7670-4b22-8ba3-067089cde96e",
   "metadata": {},
   "outputs": [
    {
     "name": "stdout",
     "output_type": "stream",
     "text": [
      "Step 1 (4 ** 5):  1024\n",
      "Step 2 (1 * 2):  2\n",
      "Step 3 ( 1024 * 3):  3072\n",
      "Step 4 ( 3072 / 6):  512.0\n",
      "Step 5 (7 // 1):  7\n",
      "Step 6 ( 2 + 512.0 ):  514.0\n",
      "Final result ( 514.0 - 7 ):  507.0\n"
     ]
    }
   ],
   "source": [
    "## provide you code here\n",
    "expression = \"1 * 2 + 3 * 4 ** 5 / 6 - 7 // 1\"\n",
    "step1 = 4 ** 5\n",
    "step2 = 1 * 2\n",
    "step3 = step1 * 3\n",
    "step4 = step3 / 6\n",
    "step5 = 7 // 1\n",
    "step6 = step2 + step4\n",
    "result = step6 - step5\n",
    "print(\"Step 1 (4 ** 5): \", step1)\n",
    "print(\"Step 2 (1 * 2): \", step2)\n",
    "print(\"Step 3 (\",step1, \"* 3): \", step3)\n",
    "print(\"Step 4 (\",step3, \"/ 6): \", step4)\n",
    "print(\"Step 5 (7 // 1): \", step5)\n",
    "print(\"Step 6 (\",step2, \"+\",step4, \"): \", step6)\n",
    "print(\"Final result (\",step6, \"-\", step5,\"): \", result)\n"
   ]
  },
  {
   "cell_type": "markdown",
   "id": "6334cec1-9a0c-4002-b6d5-5829bcf326de",
   "metadata": {},
   "source": [
    "---"
   ]
  },
  {
   "cell_type": "markdown",
   "id": "055384a2-13d2-40c1-b62a-b5cace57cbc9",
   "metadata": {},
   "source": [
    "4. Write a program to sum of all variables listed in the code below. (2 point)\n",
    "\n",
    "Output:\n",
    "```code\n",
    "55.6\n",
    "```"
   ]
  },
  {
   "cell_type": "code",
   "execution_count": 35,
   "id": "289a5e3b-1ada-41f0-8a5b-57565ef6de82",
   "metadata": {},
   "outputs": [
    {
     "name": "stdout",
     "output_type": "stream",
     "text": [
      "55.6\n"
     ]
    }
   ],
   "source": [
    "# Please complete the code below\n",
    "\n",
    "x = '10'\n",
    "y = '15.6'\n",
    "z = 30\n",
    "summation = int(x) + float(y) + z\n",
    "print(summation)\n"
   ]
  },
  {
   "cell_type": "markdown",
   "id": "cedc6d41-693b-4c34-9380-21ee27c27693",
   "metadata": {},
   "source": [
    "---"
   ]
  },
  {
   "cell_type": "markdown",
   "id": "b3330b9e-11a5-42c8-8528-69b64688ebec",
   "metadata": {},
   "source": [
    "5. Write a program that uses input to prompt a user for their name and then welcomes them. Note that input will pop up a dialog box. Enter Sarah in the pop-up box when you are prompted so your output will match the desired output. (2 points)\n",
    "\n",
    "Output \n",
    "```code\n",
    "Hello Sarah\n",
    "```"
   ]
  },
  {
   "cell_type": "code",
   "execution_count": 36,
   "id": "b79c7da9-45ad-4165-8fc3-97ccc0d76003",
   "metadata": {},
   "outputs": [
    {
     "name": "stdin",
     "output_type": "stream",
     "text": [
      "Enter you name:  Sarah\n"
     ]
    },
    {
     "name": "stdout",
     "output_type": "stream",
     "text": [
      "Hello Sarah\n"
     ]
    }
   ],
   "source": [
    "# The code below almost works\n",
    "\n",
    "name = input(\"Enter you name: \")\n",
    "print(\"Hello\", name)"
   ]
  },
  {
   "cell_type": "markdown",
   "id": "b2d29b12-d38b-4273-8da9-5e9bff9f0fff",
   "metadata": {},
   "source": [
    "---"
   ]
  },
  {
   "cell_type": "markdown",
   "id": "cd6932f0-aa27-4226-be80-9951884c3e79",
   "metadata": {},
   "source": [
    "6. Write a program to prompt the user for hours and rate per hour using input to compute gross pay. Use 35 hours and a rate of 2.75 per hour to test the program (the pay should be 96.25). You should use input to read a string and float() to convert the string to a number. Do not worry about error checking or bad user data. (4 points)\n",
    "\n",
    "Output:\n",
    "```code\n",
    "Pay: 96.25\n",
    "```"
   ]
  },
  {
   "cell_type": "code",
   "execution_count": 12,
   "id": "0c0d1e13-c81e-47b1-804c-b4642bc169eb",
   "metadata": {},
   "outputs": [
    {
     "name": "stdin",
     "output_type": "stream",
     "text": [
      "Enter Hours: 35\n",
      "Enter rate: 2.75\n"
     ]
    },
    {
     "name": "stdout",
     "output_type": "stream",
     "text": [
      "Pay: 96.25\n"
     ]
    }
   ],
   "source": [
    "# This first line is provided for you\n",
    "\n",
    "hrs = input(\"Enter Hours:\")\n",
    "rate = input(\"Enter rate:\")\n",
    "pay = int(hrs) * float(rate)\n",
    "print(\"Pay:\", pay)\n",
    "\n",
    "\n"
   ]
  },
  {
   "cell_type": "markdown",
   "id": "81f49f99-6534-4b2d-a8f5-473354c0ae52",
   "metadata": {},
   "source": [
    "---"
   ]
  },
  {
   "cell_type": "markdown",
   "id": "574e706c-e7b0-418b-bbcd-cc09d015db3b",
   "metadata": {},
   "source": [
    "7. Given the boolean values A = True, B = False, and C = True, **write three different logical expressions** using all the variables A, B, and C that **result in `True`**. Additionally, **write three different logical expressions** using all the variables A, B, and C that **result in `False`**. (6 points)\n",
    "\n",
    "Hint: Use logical operators like `and`, `or`, and `not` to combine the variables.\n",
    "\n",
    "Example of the logical expression in True:<br>\n",
    "`answer1 = (A or B) and C`<br>\n",
    "`print('answer1: ',answer1)`"
   ]
  },
  {
   "cell_type": "code",
   "execution_count": 37,
   "id": "6e4b7df8-1a63-459c-9ac6-3e2e34963868",
   "metadata": {},
   "outputs": [
    {
     "name": "stdout",
     "output_type": "stream",
     "text": [
      "answer1:  True\n",
      "answer2:  True\n",
      "answer3:  True\n",
      "answer4:  False\n",
      "answer5:  False\n",
      "answer6:  False\n"
     ]
    }
   ],
   "source": [
    "# Write the logical expression and print the result here\n",
    "A = True\n",
    "B = False\n",
    "C = True\n",
    "\n",
    "ans1 = (A or B) or C\n",
    "ans2 = (A and C) or not(B)\n",
    "ans3 = (B or C) or A\n",
    "ans4 = not(A or B) and C\n",
    "ans5 = (A and C) and B\n",
    "ans6 = (B and C) and A\n",
    "print('answer1: ', ans1)\n",
    "print('answer2: ', ans2)\n",
    "print('answer3: ', ans3)\n",
    "print('answer4: ', ans4)\n",
    "print('answer5: ', ans5)\n",
    "print('answer6: ', ans6)\n",
    "\n",
    "\n",
    "\n"
   ]
  }
 ],
 "metadata": {
  "kernelspec": {
   "display_name": "Python 3 (ipykernel)",
   "language": "python",
   "name": "python3"
  },
  "language_info": {
   "codemirror_mode": {
    "name": "ipython",
    "version": 3
   },
   "file_extension": ".py",
   "mimetype": "text/x-python",
   "name": "python",
   "nbconvert_exporter": "python",
   "pygments_lexer": "ipython3",
   "version": "3.13.5"
  }
 },
 "nbformat": 4,
 "nbformat_minor": 5
}
