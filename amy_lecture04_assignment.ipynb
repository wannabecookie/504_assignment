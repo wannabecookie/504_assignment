{
 "cells": [
  {
   "cell_type": "markdown",
   "id": "7e10f848-0ff5-4268-a265-cebc45ecea0b",
   "metadata": {},
   "source": [
    "## Week04 assignment"
   ]
  },
  {
   "cell_type": "markdown",
   "id": "562b955a-fc4f-4907-b942-821f8caf9106",
   "metadata": {},
   "source": [
    "#### 1. Lists: Basic Operations\n",
    "\n",
    "Create a list my_list with the elements [2, 4, 6, 8, 10]. Perform the following operations:\n",
    "- Add the number 12 to the end of the list.\n",
    "- Remove the first element from the list.\n",
    "- Insert the number 0 at the beginning of the list.\n",
    "- Sort the list in descending order.\n",
    "\n",
    "(5 points)"
   ]
  },
  {
   "cell_type": "code",
   "execution_count": 14,
   "id": "f4586167-7863-452c-bb28-9ac9b4d2f672",
   "metadata": {},
   "outputs": [
    {
     "data": {
      "text/plain": [
       "[2, 4, 6, 8, 10]"
      ]
     },
     "execution_count": 14,
     "metadata": {},
     "output_type": "execute_result"
    }
   ],
   "source": [
    "# create my_list (1 point)\n",
    "my_list = [2,4,6,8,10]\n",
    "my_list"
   ]
  },
  {
   "cell_type": "code",
   "execution_count": 15,
   "id": "84879740-d632-4760-aa32-09ad4a37e261",
   "metadata": {},
   "outputs": [
    {
     "data": {
      "text/plain": [
       "[2, 4, 6, 8, 10, 12]"
      ]
     },
     "execution_count": 15,
     "metadata": {},
     "output_type": "execute_result"
    }
   ],
   "source": [
    "# Add the number 12 to the end of the list (1 point)\n",
    "my_list.append(12)\n",
    "my_list"
   ]
  },
  {
   "cell_type": "code",
   "execution_count": 16,
   "id": "1a48f066-ee5e-4b3e-b10f-2c13b0b5bab2",
   "metadata": {},
   "outputs": [
    {
     "data": {
      "text/plain": [
       "[4, 6, 8, 10, 12]"
      ]
     },
     "execution_count": 16,
     "metadata": {},
     "output_type": "execute_result"
    }
   ],
   "source": [
    "# Remove the first element from the list. (1 point)\n",
    "my_list.pop(0)\n",
    "my_list"
   ]
  },
  {
   "cell_type": "code",
   "execution_count": 17,
   "id": "ed26d69b-3153-4b09-8a00-48013ea99031",
   "metadata": {},
   "outputs": [
    {
     "data": {
      "text/plain": [
       "[0, 4, 6, 8, 10, 12]"
      ]
     },
     "execution_count": 17,
     "metadata": {},
     "output_type": "execute_result"
    }
   ],
   "source": [
    "# Insert the number 0 at the beginning of the list. (1 point)\n",
    "my_list.insert(0,0)\n",
    "my_list"
   ]
  },
  {
   "cell_type": "code",
   "execution_count": 18,
   "id": "17488e29-c1fe-4311-bce1-b08da5ea0cea",
   "metadata": {},
   "outputs": [
    {
     "data": {
      "text/plain": [
       "[12, 10, 8, 6, 4, 0]"
      ]
     },
     "execution_count": 18,
     "metadata": {},
     "output_type": "execute_result"
    }
   ],
   "source": [
    "# Sort the list in descending order. (1 point)\n",
    "my_list.sort(reverse = True)\n",
    "my_list"
   ]
  },
  {
   "cell_type": "markdown",
   "id": "6b34cb4c-cef6-4975-a240-7f713b08b8f9",
   "metadata": {},
   "source": [
    "---"
   ]
  },
  {
   "cell_type": "markdown",
   "id": "04c7f12d-fce0-497a-afff-eb6232911abc",
   "metadata": {},
   "source": [
    "#### 2. String and dictionary\n",
    "Create a Python function to return the top five word counts from a tuple collection. The following is input, an example of a command, and its output. (5 points) <br> Hint: dict, split, strip, sorted, items, setdefault "
   ]
  },
  {
   "cell_type": "code",
   "execution_count": 19,
   "id": "016673a2-06be-4239-89da-929cfef62454",
   "metadata": {},
   "outputs": [],
   "source": [
    "# Input\n",
    "text = \"\"\"Conda is an open-source package management \n",
    "system and environment management system that \n",
    "runs on Windows, macOS, and Linux. Conda quickly \n",
    "installs, runs, and updates packages and their \n",
    "dependencies. Conda easily creates, saves, loads, \n",
    "and switches between environments on your local \n",
    "computer. It was created for Python programs but \n",
    "it can package and distribute software for any \n",
    "language.\"\"\""
   ]
  },
  {
   "cell_type": "code",
   "execution_count": 20,
   "id": "31bb08cf-1a2e-40a1-91d9-e4982853539c",
   "metadata": {},
   "outputs": [],
   "source": [
    "# def top5words(text):\n",
    "#     rm_comma_dot = text.replace(\",\", \"\").replace(\".\", \"\")\n",
    "#     words = rm_comma_dot.split()\n",
    "#     out1 = {i: 0 for i in words} #initialize dict non-redundant word with 0 value\n",
    "#     for word in words: #count word\n",
    "#         if word in words:\n",
    "#             out1[word] += 1 \n",
    "#     sorted_word = sorted(out1.items(), key = lambda x: x[1], reverse=True)\n",
    "\n",
    "#     return sorted_word[:5]"
   ]
  },
  {
   "cell_type": "code",
   "execution_count": 21,
   "id": "175b206c",
   "metadata": {},
   "outputs": [],
   "source": [
    "def top5words(text):\n",
    "    rm_comma_dot = text.replace(\",\", \"\").replace(\".\", \"\")\n",
    "    words = rm_comma_dot.split()\n",
    "    out1 = {}\n",
    "    for word in words: #count word\n",
    "        #out1[word] = out1.setdefault(word,0)\n",
    "        #out[word] += 1\n",
    "        out1[word] = out1.get(word,0)+1\n",
    "    sorted_word = sorted(out1.items(), key = lambda x: x[1], reverse=True)\n",
    "\n",
    "    return sorted_word[:5]"
   ]
  },
  {
   "cell_type": "code",
   "execution_count": 22,
   "id": "2112c24a-911e-4d91-abb4-2b912e8fca6d",
   "metadata": {},
   "outputs": [
    {
     "name": "stdout",
     "output_type": "stream",
     "text": [
      "[('and', 6), ('Conda', 3), ('package', 2), ('management', 2), ('system', 2)]\n"
     ]
    }
   ],
   "source": [
    "print(top5words(text))"
   ]
  },
  {
   "cell_type": "markdown",
   "id": "68a4f0f8-3d4a-4318-aca7-84add8e872e0",
   "metadata": {},
   "source": [
    "---"
   ]
  },
  {
   "cell_type": "markdown",
   "id": "27d3c9f5-60ce-4aea-bf0d-16ef32b0300d",
   "metadata": {},
   "source": [
    "#### 3. List, function, and data type\n",
    "Create a Python function to return the summation of the input list. The following is input, an example of a command, and its output. (3 points)"
   ]
  },
  {
   "cell_type": "code",
   "execution_count": 23,
   "id": "f674a019-c006-4509-adbe-91ff073db7f8",
   "metadata": {},
   "outputs": [],
   "source": [
    "# Input\n",
    "nums = [2.6955299108500643, 2.759672514150976, 6.807621913680465,\n",
    "        5.004164956713738, 3.727523590231052, 5.107519014760513, \n",
    "        0.5156673122499855, 7.9100971381593785, 1.6328238403889883, \n",
    "        4.1048914689154605, 1.0594628223792635, 8.804506282587008, \n",
    "        4.058383205207152, 6.644395878183786, 0.4924942010521782, \n",
    "        7.8806047669227555, 6.799589126679573, 0.5964671798531762, \n",
    "        1.2208743508866204, 4.909124347695921, 6.082730665225045, \n",
    "        '0.5383844572919905', '3.838049417110244', '5.649313148205868', \n",
    "        '9.595555247845123', '4.402530399438124', '6.894360024228962', \n",
    "        '0.9305584948701173', '1.373989288733889', '8.000115586062797', \n",
    "        '6.32146118009052', '6.92736844301111', '8.749100463268633', \n",
    "        '2.962635500661573', '2.7635645963467947', '0.7925118335313364', \n",
    "        '2.5164582418977846', '3.1741731190591382', '3.7095075516242293',\n",
    "        '0.2701629812640449', '7.090926211816672', 8, 0, 8, 3, 9, 2, 3, \n",
    "        3, 8, 4, 3, 1, 6, 1, 3, 0, 3, 6, 2, 1, 1.692470344442134, \n",
    "        0.3519386001627045, 4.331377265242554, 1.5492411701242792, \n",
    "        0.7751931942826917, 0.010984199386151472, 5.178467048676896, \n",
    "        0.395066270897072, 3.4294263145659976, 7.119570706734152]"
   ]
  },
  {
   "cell_type": "code",
   "execution_count": 24,
   "id": "bd87a7ef-ac7a-40a3-a060-682796c7c3f7",
   "metadata": {},
   "outputs": [],
   "source": [
    "def sumNum(nums):\n",
    "    return sum(map(float, nums)) #find sum by mapping every elements to float"
   ]
  },
  {
   "cell_type": "code",
   "execution_count": 25,
   "id": "754bd81e-14a2-4cfa-ba52-7fc5a39ef391",
   "metadata": {},
   "outputs": [
    {
     "data": {
      "text/plain": [
       "274.14860578764666"
      ]
     },
     "execution_count": 25,
     "metadata": {},
     "output_type": "execute_result"
    }
   ],
   "source": [
    "sumNum(nums)"
   ]
  },
  {
   "cell_type": "markdown",
   "id": "3dd1dd56-90b1-4b02-acd6-d2814e03ad3c",
   "metadata": {},
   "source": [
    "---"
   ]
  },
  {
   "cell_type": "markdown",
   "id": "2d054554-d9a0-475b-9cec-8667ae1feaa9",
   "metadata": {},
   "source": [
    "#### 4. Nested lists, assession, and functions\n",
    "Create a Python function to return the summation of a selected column in the input list. The following is input, an example of a command, and its output. (4 points)\n",
    "\n",
    "Input table:\n",
    "\n",
    "|col1|col2|col3|\n",
    "|---|---|---|\n",
    "|1|2|3|\n",
    "|4|5|6|\n",
    "|7|8|9|\n"
   ]
  },
  {
   "cell_type": "code",
   "execution_count": 26,
   "id": "67b43b98-6a01-4496-9270-945e2e40e651",
   "metadata": {},
   "outputs": [],
   "source": [
    "# Input\n",
    "table = [[1,2,3],\n",
    "         [4,5,6],\n",
    "         [7,8,9]]"
   ]
  },
  {
   "cell_type": "code",
   "execution_count": 27,
   "id": "1a2fcf30",
   "metadata": {},
   "outputs": [],
   "source": [
    "# sum = 0\n",
    "\n",
    "# # for i in range(len(table)):\n",
    "# #     for j in range((len(table))):\n",
    "# #         print(table[i][j])\n",
    "\n",
    "# x = 0\n",
    "# for i in range(len(table)):\n",
    "#     print(f'round: {i}: {table[i]}')\n",
    "#     x += table[i][0]\n",
    "#     print(x)\n"
   ]
  },
  {
   "cell_type": "code",
   "execution_count": 28,
   "id": "2e885512-993a-4b00-9181-058c00df5ecb",
   "metadata": {},
   "outputs": [],
   "source": [
    "def sumCol(table, col):\n",
    "    # sum_col = table[0][col] + table[1][col] + table[2][col] #find sum by calculate row 0-2 with different col \n",
    "    sum = 0\n",
    "    for row in table:\n",
    "        sum += row[col]\n",
    "    return sum"
   ]
  },
  {
   "cell_type": "code",
   "execution_count": 29,
   "id": "e72e0c73-3e09-4dab-9097-b7fca67b446c",
   "metadata": {},
   "outputs": [
    {
     "name": "stdout",
     "output_type": "stream",
     "text": [
      "col1: 12\n",
      "col2: 15\n",
      "col3: 18\n"
     ]
    }
   ],
   "source": [
    "print(\"col1:\",sumCol(table, 0))\n",
    "print(\"col2:\",sumCol(table, 1))\n",
    "print(\"col3:\",sumCol(table, 2))"
   ]
  },
  {
   "cell_type": "markdown",
   "id": "ece8a8e5-c0b6-464f-90e8-4f5e4086f4d8",
   "metadata": {},
   "source": [
    "---"
   ]
  },
  {
   "cell_type": "markdown",
   "id": "e6f0aff7-f4e4-4d39-8f7e-f2543ae14837",
   "metadata": {},
   "source": [
    "#### 5. List, Set, and function\n",
    "Create a Python function to return the common values between two input lists. The following is input, an example of a command, and its output. (3 point)"
   ]
  },
  {
   "cell_type": "code",
   "execution_count": 30,
   "id": "5e4925c5-94a7-4e25-af0f-c3ed0fdecca3",
   "metadata": {},
   "outputs": [],
   "source": [
    "L1 = ['W', 's', 'j', 'D', 'u', 't', 'n', 'C', 'A', 'E', 'D', \n",
    "      'o', 'J', 'O', 'f', 'l', 'I', 'U', 'q', 'O', 'R', 'X', \n",
    "      'm', 'j', 'N', 'j', 'N', 'z', 'J', 'u', 'R', 'p', 'b', \n",
    "      'B', 'B', 'g', 'E', 'W', 'l', 'Z', 'i', 'x', 'U', 'D', \n",
    "      'O', 'z', 'C', 'K', 'c', 'g']\n",
    "L2 = ['R', 'B', 'V', 'q', 'L', 'F', 'U', 'u', 'w', 'X', 'M', \n",
    "      'm', 'u', 'w', 'G', 'P', 'H', 'I', 'L', 'J', 'S', 'F', \n",
    "      'u', 'D', 'k', 'l', 'g', 'W', 'P', 'V', 'e', 'p', 'P', \n",
    "      'K', 'V', 'B', 'j', 's', 'K', 'p', 'R', 'V', 'r', 'N', \n",
    "      'x', 'a', 'J', 't', 't', 'X']"
   ]
  },
  {
   "cell_type": "code",
   "execution_count": 31,
   "id": "6aaf361c-464a-428e-8983-85440d7b58eb",
   "metadata": {},
   "outputs": [],
   "source": [
    "def intersection(L1, L2):\n",
    "    return set(L1)&set(L2)"
   ]
  },
  {
   "cell_type": "code",
   "execution_count": 32,
   "id": "70da80fd-2d44-4677-82da-ee85e44fbe77",
   "metadata": {},
   "outputs": [
    {
     "name": "stdout",
     "output_type": "stream",
     "text": [
      "{'B', 's', 'q', 'u', 'I', 'J', 'U', 'j', 'N', 't', 'R', 'l', 'D', 'm', 'W', 'X', 'g', 'x', 'p', 'K'}\n"
     ]
    }
   ],
   "source": [
    "print(intersection(L1,L2))"
   ]
  },
  {
   "cell_type": "markdown",
   "id": "15ddf4db-07b4-4deb-a7a1-c9af5411cb03",
   "metadata": {},
   "source": [
    "---"
   ]
  }
 ],
 "metadata": {
  "kernelspec": {
   "display_name": "Python 3 (ipykernel)",
   "language": "python",
   "name": "python3"
  },
  "language_info": {
   "codemirror_mode": {
    "name": "ipython",
    "version": 3
   },
   "file_extension": ".py",
   "mimetype": "text/x-python",
   "name": "python",
   "nbconvert_exporter": "python",
   "pygments_lexer": "ipython3",
   "version": "3.13.5"
  }
 },
 "nbformat": 4,
 "nbformat_minor": 5
}
