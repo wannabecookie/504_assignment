{
 "cells": [
  {
   "cell_type": "markdown",
   "id": "93f1f9c0-da06-41a2-a342-f660244fe794",
   "metadata": {},
   "source": [
    "# <font color=\"DDA0DD\">**Assignment 1**</font>\n",
    "### <font color=\"CBAACB\">SIRE 504 - Programming in Bioinformatics</font>"
   ]
  },
  {
   "cell_type": "markdown",
   "id": "6c419156-e974-48cc-b0cd-9f4d51ec1bc9",
   "metadata": {},
   "source": [
    "---"
   ]
  },
  {
   "cell_type": "markdown",
   "id": "0b891dbf-cfd1-40f1-a69a-46531f660183",
   "metadata": {},
   "source": [
    "<center><img src=\"https://drive.google.com/thumbnail?id=1c03wtQ2RRzf6Z555ejaU8gyab3_F_QNx&sz=w1000\" width=\"250\" height=\"250\"></center> "
   ]
  },
  {
   "cell_type": "markdown",
   "id": "8b1221de-d85d-466a-84b0-d39f6b173f20",
   "metadata": {},
   "source": [
    "<span style=\"color: #7F84CF; font-size: 20px;\">**Name:**</span> $\\;\\;\\;\\;$Saranyaporn Kunawongkrit"
   ]
  },
  {
   "cell_type": "markdown",
   "id": "fad941d9-b130-489c-af5d-a9b86a39719a",
   "metadata": {},
   "source": [
    "<span style=\"color: #B1A9E0; font-size: 20px;\">**Nickname:**</span> $\\;\\;\\;\\;$Amy"
   ]
  },
  {
   "cell_type": "markdown",
   "id": "fbadc04d-3768-45f7-b430-bdeb016994da",
   "metadata": {},
   "source": [
    "<span style=\"color: #E3D2F4; font-size: 20px;\">**Academic Background:**</span>\n",
    "- B.Sc. in Information and Communication Technology, Mahidol University, 2024 (Second-Class Honors)"
   ]
  },
  {
   "cell_type": "markdown",
   "id": "72e0c061-2dbf-40d7-83d7-17cb489fcd49",
   "metadata": {},
   "source": [
    "<span style=\"color: #B2EBF2; font-size: 20px;\">**Interested hobbies and sports:**</span>\n",
    "- **Traveling:** I love to travel, exploring new places, planning my own trips, trying local food, and going shopping.\n",
    "- **Hiking:** I enjoy hiking a lot, especially when the trees are greenish. I love the feeling of overcoming my physical exhaustion.\n",
    "- **Skiing:** This is my fav sport, but sadly, Thailand has no snow. <font color=\"55CBCD\">૮(˶ㅠ︿ㅠ)ა</font>\n",
    "\n",
    "<pre>                           \n",
    "　　　　　🌸＞　　フ          This is Amy\n",
    "　　　　　| 　_　 _ |         She is sad because Thailand is too hot\n",
    "　 　　　／` ミ＿xノ  \n",
    "　　 　 /　　　 　 |\n",
    "　　　 /　 ヽ　　 ﾉ\n",
    "　 　 │　　|　|　|\n",
    "　／￣|　　 |　|　|\n",
    "　| (￣ヽ＿_ヽ_)__)\n",
    "　＼二つ</pre>"
   ]
  },
  {
   "cell_type": "markdown",
   "id": "7b8dc2ec-1d1a-4925-8228-2e78413b3259",
   "metadata": {},
   "source": [
    "<span style=\"color: #80DEEA; font-size: 20px;\">**Favorite food:**</span> $\\;\\;\\;\\;$Somtam 100000% Spicy level 100"
   ]
  },
  {
   "cell_type": "markdown",
   "id": "a61f3c6b-6ff6-4c55-93a4-c59df1ed4ef2",
   "metadata": {},
   "source": [
    "<span style=\"color: #4DD0E1; font-size: 20px;\">**What makes you feel joy**</span>\n",
    "- My dog & chinchilla: I could spend my whole day babysitting them.\n",
    "<center><img src=\"https://drive.google.com/thumbnail?id=18CWjUSgxYZfcN1VdizOd1lvvL4yoogYU\" width=\"150\" height=\"150\">$\\;\\;\\;\\;\\;\\;\\;\\;\\;\\;\\;\\;$<img src=\"https://drive.google.com/thumbnail?id=1kloWyOguhZHatSWHNz3tDf1B-gwg519c\" width=\"150\" height=\"150\"></center>\n",
    "<center>This is Shochu $\\;\\;\\;\\;\\;\\;\\;\\;\\;\\;\\;\\;\\;\\;\\;\\;\\;\\;\\;\\;\\;\\;\\;\\;\\;$ This is Piepie</center>\n"
   ]
  },
  {
   "cell_type": "markdown",
   "id": "9c2bf3aa-fdf9-4df8-9f80-f4e647d73e43",
   "metadata": {},
   "source": [
    "<span style=\"color: #55CBCD; font-size: 20px;\">**What do you expect from taking Programming in Bioinformatics?**</span>\n",
    "- Learning to code for bioinformatics.\n",
    "- Improving my coding skills.\n",
    "- Being able to code after finishing this class."
   ]
  },
  {
   "cell_type": "markdown",
   "id": "77fa0f08-6d6c-4c80-9b8d-245ec4469f7c",
   "metadata": {},
   "source": [
    "P.S. I learned a lot of new things in the first class that I hadn't learned before."
   ]
  }
 ],
 "metadata": {
  "kernelspec": {
   "display_name": "Python 3 (ipykernel)",
   "language": "python",
   "name": "python3"
  },
  "language_info": {
   "codemirror_mode": {
    "name": "ipython",
    "version": 3
   },
   "file_extension": ".py",
   "mimetype": "text/x-python",
   "name": "python",
   "nbconvert_exporter": "python",
   "pygments_lexer": "ipython3",
   "version": "3.13.5"
  }
 },
 "nbformat": 4,
 "nbformat_minor": 5
}
