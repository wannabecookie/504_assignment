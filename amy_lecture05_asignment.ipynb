{
 "cells": [
  {
   "cell_type": "markdown",
   "id": "ca876da8-f3b1-4697-ae15-2f60ccb14f10",
   "metadata": {},
   "source": [
    "## Lecture05 Assignment"
   ]
  },
  {
   "cell_type": "markdown",
   "id": "ba02fe0f-b31a-4f13-9e96-33d414c042b6",
   "metadata": {},
   "source": [
    "1 ) Create a Python function to return the grade of each student. The following is input, an example of a command, and its output. (2 points)\n",
    "\n",
    "Grading system:\n",
    "1. The score greater than or equal to 90 is \"A\"\n",
    "2. The score greater than or equal to 80 is \"B\"\n",
    "3. The score greater than or equal to 70 is \"C\" \n",
    "4. The score greater than or equal to 60 is \"D\" \n",
    "4. The score less than 60 is \"F\" \n"
   ]
  },
  {
   "cell_type": "code",
   "execution_count": 2,
   "id": "118e4c06-db72-4861-900c-0de3fdaec5cf",
   "metadata": {},
   "outputs": [],
   "source": [
    "# Input; please run to generate input\n",
    "students = {'Thomas': 51, 'Lillian': 93, 'Robert': 78, 'Kathryn': 33, \n",
    "            'Virginia': 30, 'Marco': 59, 'James': 33, 'Otto': 99, \n",
    "            'Beau': 78, 'Leon': 33, 'Edward': 93, 'Chana': 58, \n",
    "            'Trisha': 32, 'Ernest': 42, 'Marcus': 67, 'Grace': 94, \n",
    "            'Debra': 54, 'Jill': 93, 'Brenda': 34, 'Agnes': 81, \n",
    "            'Maria': 76, 'Greg': 95, 'Katherine': 96, 'Linda': 33, \n",
    "            'David': 80, 'Leo': 59, 'Timothy': 99, 'Tina': 98, \n",
    "            'Jason': 64, 'Ryan': 95, 'Yoshiko': 56, 'Joanne': 91, \n",
    "            'Gladys': 55, 'Teresa': 75, 'Jesse': 33, 'Byron': 100, \n",
    "            'Patricia': 100, 'Kirk': 39, 'Tom': 87, 'Christopher': 65, \n",
    "            'Stephanie': 53, 'Carla': 51, 'Irma': 67, 'Dorothy': 93, \n",
    "            'Heather': 69, 'Margaret': 54, 'Heriberto': 95, 'Charles': 85}"
   ]
  },
  {
   "cell_type": "code",
   "execution_count": 3,
   "id": "fb8d9f2c-b15c-4a49-b2aa-e7c8ed9c0182",
   "metadata": {},
   "outputs": [],
   "source": [
    "# Please create function to grade the students\n",
    "def grading(score:int)->str:\n",
    "    if score >= 90:\n",
    "        return \"A\"\n",
    "    elif score >= 80:\n",
    "        return \"B\"\n",
    "    elif score >= 70:\n",
    "        return \"C\"\n",
    "    elif score >= 60:\n",
    "        return \"D\"\n",
    "    else:\n",
    "        return \"F\"\n",
    "    # grade = \"A\" if score >= 90 else \"B\" if score >= 80 else \"C\" if score >= 70 else \"D\" if score >= 60 else \"F\"\n",
    "    # return grade\n",
    "\n",
    "    "
   ]
  },
  {
   "cell_type": "code",
   "execution_count": 4,
   "id": "cc295dd3-ff31-4788-8248-3fd0421e86d8",
   "metadata": {},
   "outputs": [
    {
     "name": "stdout",
     "output_type": "stream",
     "text": [
      "Lillian: A\n",
      "Tom: B\n",
      "Teresa: C\n",
      "Marcus: D\n",
      "Yoshiko: F\n"
     ]
    }
   ],
   "source": [
    "# Expected output\n",
    "print('Lillian:', grading(students['Lillian']))\n",
    "print('Tom:',grading(students['Tom']))\n",
    "print('Teresa:',grading(students['Teresa']))\n",
    "print('Marcus:',grading(students['Marcus']))\n",
    "print('Yoshiko:',grading(students['Yoshiko']))"
   ]
  },
  {
   "cell_type": "markdown",
   "id": "5e063e29-acc6-4013-884c-9bd593a3ddc5",
   "metadata": {},
   "source": [
    "---"
   ]
  },
  {
   "cell_type": "markdown",
   "id": "6802cf7b-5311-4872-9bbd-81c446eabae7",
   "metadata": {},
   "source": [
    "2 ) Using input and grading function from Assignment 1, please print out names and grades of the students who did not receive a \"F\" grade using the For-Loop statment and if statement as seen in the result below. (3 points) Hint: for and if statement and string format. "
   ]
  },
  {
   "cell_type": "code",
   "execution_count": 5,
   "id": "c874f30e-d314-49f1-918a-4e52eadd2bc5",
   "metadata": {},
   "outputs": [
    {
     "name": "stdout",
     "output_type": "stream",
     "text": [
      "Student's Name\t got\t Grade\n",
      "    Lillian    \t got\t A\n",
      "    Robert     \t got\t C\n",
      "     Otto      \t got\t A\n",
      "     Beau      \t got\t C\n",
      "    Edward     \t got\t A\n",
      "    Marcus     \t got\t D\n",
      "     Grace     \t got\t A\n",
      "     Jill      \t got\t A\n",
      "     Agnes     \t got\t B\n",
      "     Maria     \t got\t C\n",
      "     Greg      \t got\t A\n",
      "   Katherine   \t got\t A\n",
      "     David     \t got\t B\n",
      "    Timothy    \t got\t A\n",
      "     Tina      \t got\t A\n",
      "     Jason     \t got\t D\n",
      "     Ryan      \t got\t A\n",
      "    Joanne     \t got\t A\n",
      "    Teresa     \t got\t C\n",
      "     Byron     \t got\t A\n",
      "   Patricia    \t got\t A\n",
      "      Tom      \t got\t B\n",
      "  Christopher  \t got\t D\n",
      "     Irma      \t got\t D\n",
      "    Dorothy    \t got\t A\n",
      "    Heather    \t got\t D\n",
      "   Heriberto   \t got\t A\n",
      "    Charles    \t got\t B\n"
     ]
    }
   ],
   "source": [
    "# Expected output\n",
    "\n",
    "## Use for-loop to print out the result\n",
    "print(f'Student\\'s Name\\t got\\t Grade')\n",
    "for stu in students.items():\n",
    "    if grading(stu[1]) != \"F\":\n",
    "        print(f'{stu[0]:^15s}\\t got\\t {grading(stu[1])}')\n",
    "\n",
    "## Filter out grade of \"F\""
   ]
  },
  {
   "cell_type": "markdown",
   "id": "805e56d6-e062-4442-8058-3a92f6d8b105",
   "metadata": {},
   "source": [
    "---"
   ]
  },
  {
   "cell_type": "markdown",
   "id": "af4c0f58-04dd-41c8-978c-f64df328cd44",
   "metadata": {},
   "source": [
    "3 ) From assignment 2, please count and list the students who got grade \"A\" and \"B\". (3 point). Hint: for, dict, string format, if statements."
   ]
  },
  {
   "cell_type": "code",
   "execution_count": 6,
   "id": "3d71f9e9-23f6-4329-8578-24c743c073cf",
   "metadata": {},
   "outputs": [
    {
     "name": "stdout",
     "output_type": "stream",
     "text": [
      "Grade\t Number\t Student's Name\n",
      "A\t 15\t Lillian,Otto,Edward,Grace,Jill,Greg,Katherine,Timothy,Tina,Ryan,Joanne,Byron,Patricia,Dorothy,Heriberto\n",
      "B\t 4\t Agnes,David,Tom,Charles\n"
     ]
    }
   ],
   "source": [
    "# Expected output\n",
    "## Create dictionary for collecting \n",
    "## student with grade of \"A\" and \"B\"\n",
    "count_A = 0\n",
    "count_B = 0\n",
    "a_name = []\n",
    "b_name = []\n",
    "for ab in students.items():\n",
    "    if grading(ab[1]) == \"A\":\n",
    "        count_A += 1\n",
    "        a_name.append(ab[0])\n",
    "    elif grading(ab[1]) == \"B\":\n",
    "        count_B += 1\n",
    "        b_name.append(ab[0])\n",
    "\n",
    "#for ab_names in students.items():\n",
    "\n",
    "print(f'Grade\\t Number\\t Student\\'s Name')\n",
    "print(f'A\\t {count_A}\\t {\",\".join(a_name)}')\n",
    "print(f'B\\t {count_B}\\t {\",\".join(b_name)}')\n",
    "\n",
    "\n",
    "## Print out"
   ]
  },
  {
   "cell_type": "markdown",
   "id": "aef32661-be1d-4d1f-87dd-eb6fb07b5e84",
   "metadata": {},
   "source": [
    "---"
   ]
  },
  {
   "cell_type": "markdown",
   "id": "725629e5-3915-4a7a-ad8e-c62cd9ecaa7c",
   "metadata": {},
   "source": [
    "4 ) Please print out the students who got the minimum and maximum score in each grade (\"A\", \"B\", \"C\", \"D\", \"F\"). (6 points)"
   ]
  },
  {
   "cell_type": "code",
   "execution_count": 7,
   "id": "92b9aee9",
   "metadata": {},
   "outputs": [
    {
     "name": "stdout",
     "output_type": "stream",
     "text": [
      "A: Max.: Byron got score of 100\n",
      "A: Max.: Patricia got score of 100\n",
      "-------------\n",
      "A: Min.: Joanne got score of 91\n",
      "=============\n",
      "B: Max.: Tom got score of 87\n",
      "-------------\n",
      "B: Min.: David got score of 80\n",
      "=============\n",
      "C: Max.: Robert got score of 78\n",
      "C: Max.: Beau got score of 78\n",
      "-------------\n",
      "C: Min.: Teresa got score of 75\n",
      "=============\n",
      "D: Max.: Heather got score of 69\n",
      "-------------\n",
      "D: Min.: Jason got score of 64\n",
      "=============\n",
      "F: Max.: Marco got score of 59\n",
      "F: Max.: Leo got score of 59\n",
      "-------------\n",
      "F: Min.: Virginia got score of 30\n",
      "=============\n"
     ]
    }
   ],
   "source": [
    "## create dictionary variable\n",
    "out = dict()\n",
    "\n",
    "grades = ['A', 'B', 'C', 'D', 'F']\n",
    "for grade in grades:\n",
    "    out[grade] = []\n",
    "#print(out)\n",
    "\n",
    "for name, grade in students.items():\n",
    "    student_grade  = grading(grade)\n",
    "    #print(student_grade)\n",
    "    out[student_grade].append((name, grade))\n",
    "#print(out)  \n",
    "\n",
    "## Find Max. and Min. of each grade\n",
    "for n in out.items():\n",
    "    #print(\"Grade:\", n[0]) # n[0] -> grade (A, B, C, D, E, F)\n",
    "    # print(\"Students:\", n[1])\n",
    "    max_grade = max(n[1], key=lambda x: x[1])  # n[1] -> (name, score) x[1] ->score, x[0] ->name\n",
    "    min_grade = min(n[1], key=lambda x: x[1])\n",
    "    max_names = [x[0] for x in n[1] if x[1] == max_grade[1]] \n",
    "    min_names = [x[0] for x in n[1] if x[1] == min_grade[1]] \n",
    "\n",
    "    #print(max_names, min_names)\n",
    "    for name in max_names:\n",
    "        print(f\"{n[0]}: Max.: {name} got score of {max_grade[1]}\")\n",
    "    print(f\"-------------\")\n",
    "    for name in min_names:\n",
    "        print(f\"{n[0]}: Min.: {name} got score of {min_grade[1]}\")\n",
    "    print(f\"=============\")"
   ]
  },
  {
   "cell_type": "code",
   "execution_count": 98,
   "id": "1944fc1d-03ae-4709-8e54-1a4a0618e1b8",
   "metadata": {},
   "outputs": [],
   "source": [
    "# Expected output\n",
    "\n",
    "## create dictionary variable\n",
    "# out = dict()\n",
    "\n",
    "# grades = ['A', 'B', 'C', 'D', 'F']\n",
    "# for grade in grades:\n",
    "#     out[grade] = []\n",
    "\n",
    "# #print(out)\n",
    "\n",
    "# for name, grade in students.items():\n",
    "#     student_grade  = grading(grade)\n",
    "#     #print(student_grade)\n",
    "#     out[student_grade].append((name, grade))\n",
    "\n",
    "#print(out)  \n",
    "\n",
    "# for n in out.items():\n",
    "#     print(n[1])\n",
    "#     max_grade = max(out.items(n[1]), key=lambda x:x[1][1])\n",
    "#     print(max_grade)\n",
    "    # max_score = max(score[n[1]] for score in out[grades])\n",
    "    # print(max_score)\n",
    "\n",
    "## Find Max. and Min. of each grade\n",
    "# for n in out.items():\n",
    "#     #print(\"Grade:\", n[0]) # n[0] -> grade (A, B, C, D, E, F)\n",
    "#     # print(\"Students:\", n[1])\n",
    "#     max_grade = max(n[1], key=lambda x: x[1])  # n[1] -> (name, score) x[1] ->score\n",
    "#     min_grade = min(n[1], key=lambda x: x[1])\n",
    "#     max_names = [x[0] for x in n[1] if x[1] == max_grade[1]] \n",
    "#     min_names = [x[0] for x in n[1] if x[1] == min_grade[1]] \n",
    "#     #print(max_names, min_names)\n",
    "#     #     max_student = \n",
    "#     for name in max_names:\n",
    "#         print(f\"{n[0]} Max.: {name} got score of {max_grade[1]}\")\n",
    "    \n",
    "#     print(f\"-------------\")\n",
    "#     for name in min_names:\n",
    "#         print(f\"{n[0]} Min.: {name} got score of {min_grade[1]}\")\n",
    "#     print(f\"=============\")\n",
    "# max_score = max(out.items(), key = lambda x: x[1][1])[0]\n",
    "# print(max_score)\n",
    "# grades = ['A', 'B', 'C', 'D', 'F']\n",
    "# for grade in grades:\n",
    "#     out[grade] = []\n",
    "    # tmp_stu = list(filter(lambda x: grading(x[1]) == grade, students.items()))\n",
    "    # tmp_stu = list(map(list, tmp_stu))\n",
    "    # print(tmp_stu)\n",
    "\n",
    "#     # max_score = max(tmp_stu[:][1])\n",
    "#     print(tmp_stu[:][:][1])\n",
    "## Filter Max. and Min. students\n",
    "    # max_stu = list(filter(lambda x: x == max(tmp)))\n",
    "\n",
    "## Print resul"
   ]
  },
  {
   "cell_type": "markdown",
   "id": "c41ecd70-faf3-4c1f-b094-2ae3d8d25a4b",
   "metadata": {},
   "source": [
    "---"
   ]
  },
  {
   "cell_type": "markdown",
   "id": "9b77213d-58c8-478b-955d-011e4b6bfdf3",
   "metadata": {},
   "source": [
    "5) Write a Python function named **word_convert** that takes a list of words and a conversion type (**ctype**) as parameters. The function should convert the case of each word in the list based on the specified **ctype** and return a new list with the converted words. The function should support three conversion types:\n",
    "    1) \"upper\": Convert all words to uppercase.\n",
    "    2) \"lower\": Convert all words to lowercase.\n",
    "    3) \"title\": Convert all words to title case (first letter of each word capitalized).\n",
    "       \n",
    "If an invalid **ctype** is provided, the function should display an error message indicating that the **ctype** should be one of \"upper\", \"lower\", or \"title\".\n",
    "\n",
    "**Parameters:**\n",
    "\n",
    "- data (list): A list containing words (strings) or other types that will be converted to strings.\n",
    "- ctype (str, optional): A string that specifies the case conversion type. Defaults to 'upper'. It can be:\n",
    "    - 'upper' for converting all words to uppercase.\n",
    "    - 'lower' for converting all words to lowercase.\n",
    "    - 'title' for converting all words to title case.\n",
    "\n",
    "(4 points)"
   ]
  },
  {
   "cell_type": "code",
   "execution_count": null,
   "id": "179fc92a-ae79-4264-9de2-6ca17335fcec",
   "metadata": {},
   "outputs": [],
   "source": [
    "# def word_convert(data: list, ctype:str='upper') -> list:\n",
    "#     valid_type = ['upper', 'lower', 'title']\n",
    "#     # check ctype\n",
    "#     if ctype not in valid_type:\n",
    "#         return \"Please set ctype to upper, lower, or title\"\n",
    "    \n",
    "    \n",
    "#     # main func\n",
    "#     # upper\n",
    "#     if(ctype == 'upper'):\n",
    "#         data_str = list(map(str, data))\n",
    "#         data_str = list(map(str.upper, data_str))\n",
    "#         return data_str\n",
    "\n",
    "#     # lower\n",
    "#     if(ctype == 'lower'):\n",
    "#         data_str = list(map(str, data))\n",
    "#         data_str = list(map(str.lower, data_str))\n",
    "#         return data_str\n",
    "\n",
    "#     # title\n",
    "#     if(ctype == 'title'):\n",
    "#         data_str = list(map(str, data))\n",
    "#         data_str = list(map(str.title, data_str))\n",
    "#         return data_str"
   ]
  },
  {
   "cell_type": "code",
   "execution_count": 8,
   "id": "e1987273",
   "metadata": {},
   "outputs": [],
   "source": [
    "def word_convert(data: list, ctype:str='upper') -> list:\n",
    "\n",
    "    # convert all elements to string\n",
    "    data = list(map(str,data))\n",
    "\n",
    "    # define valid type\n",
    "    valid_type = ['upper', 'lower', 'title']\n",
    "    #method associate with each ctype\n",
    "    method_type = [str.upper, str.lower, str.title]\n",
    "    # create dict: ex: {'upper': str.upper()}\n",
    "    method_dict = dict(zip(valid_type,method_type))\n",
    "    # check ctype\n",
    "    if ctype not in valid_type:\n",
    "        return \"Please set ctype to upper, lower, or title\"\n",
    "    else:\n",
    "        # method_dict.get(ctype) --> ex. ctype = 'upper' : method_dict.get() will return str.uppper\n",
    "        # apply returned method with map and data\n",
    "        return list(\n",
    "            map(method_dict.get(ctype),data)\n",
    "            )"
   ]
  },
  {
   "cell_type": "code",
   "execution_count": 9,
   "id": "73a33321-f45c-40dd-86ec-c70afae933ba",
   "metadata": {},
   "outputs": [],
   "source": [
    "words_set1 = [\"hellO\", \"worlD\", \"pythoN\", \"programminG\", 2024]\n",
    "words_set2 = [\"hellO\", 10, 3.5, \"worlD\", 7, 2.8]"
   ]
  },
  {
   "cell_type": "code",
   "execution_count": 10,
   "id": "964b6c52-817d-4b8b-bbb0-293ca99f370a",
   "metadata": {},
   "outputs": [
    {
     "name": "stdout",
     "output_type": "stream",
     "text": [
      "['HELLO', 'WORLD', 'PYTHON', 'PROGRAMMING', '2024']\n",
      "['hello', 'world', 'python', 'programming', '2024']\n",
      "['Hello', 'World', 'Python', 'Programming', '2024']\n",
      "Please set ctype to upper, lower, or title\n"
     ]
    }
   ],
   "source": [
    "# Expected output\n",
    "print(word_convert(words_set1, 'upper'))\n",
    "print(word_convert(words_set1, 'lower'))\n",
    "print(word_convert(words_set1, 'title'))\n",
    "print(word_convert(words_set1, 'invalid'))"
   ]
  },
  {
   "cell_type": "code",
   "execution_count": 11,
   "id": "0da7a08c-6e09-48b7-87af-5ea1b90ce075",
   "metadata": {},
   "outputs": [
    {
     "name": "stdout",
     "output_type": "stream",
     "text": [
      "['HELLO', '10', '3.5', 'WORLD', '7', '2.8']\n",
      "['hello', '10', '3.5', 'world', '7', '2.8']\n",
      "['Hello', '10', '3.5', 'World', '7', '2.8']\n",
      "Please set ctype to upper, lower, or title\n"
     ]
    }
   ],
   "source": [
    "# Expected output\n",
    "print(word_convert(words_set2, 'upper'))\n",
    "print(word_convert(words_set2, 'lower'))\n",
    "print(word_convert(words_set2, 'title'))\n",
    "print(word_convert(words_set2, 'invalid'))"
   ]
  },
  {
   "cell_type": "markdown",
   "id": "f4c045e0-b7ae-42aa-8be0-740e31baa5e7",
   "metadata": {},
   "source": [
    "---"
   ]
  },
  {
   "cell_type": "markdown",
   "id": "362bdc97-c8cb-4da2-94b2-f4f4534c8f3b",
   "metadata": {},
   "source": [
    "6) You are given a simple Python function named **word_upper** that converts any input to a string and then transforms it to uppercase. Your task is to use this function with the **map** built-in function to convert all elements in a list to uppercase.\n",
    "(2 points)"
   ]
  },
  {
   "cell_type": "code",
   "execution_count": 12,
   "id": "87ebbd74-280f-434b-9970-932c9599c970",
   "metadata": {},
   "outputs": [],
   "source": [
    "def word_upper(x: str | int) -> str:\n",
    "    return str.upper(str(x))"
   ]
  },
  {
   "cell_type": "code",
   "execution_count": 13,
   "id": "8fe8dce5-2788-460f-aa26-f65b6a1b089a",
   "metadata": {},
   "outputs": [],
   "source": [
    "words_set1 = [\"hellO\", \"worlD\", \"pythoN\", \"programminG\", 2024]\n",
    "words_set2 = [\"hellO\", 10, 3.5, \"worlD\", 7, 2.8]"
   ]
  },
  {
   "cell_type": "code",
   "execution_count": 14,
   "id": "5cac04d7-299a-45d5-a068-827ef5b0132f",
   "metadata": {},
   "outputs": [
    {
     "name": "stdout",
     "output_type": "stream",
     "text": [
      "['HELLO', 'WORLD', 'PYTHON', 'PROGRAMMING', '2024']\n",
      "['HELLO', '10', '3.5', 'WORLD', '7', '2.8']\n"
     ]
    }
   ],
   "source": [
    "# Expected output\n",
    "print(list(map(word_upper, words_set1)))\n",
    "print(list(map(word_upper, words_set2)))"
   ]
  },
  {
   "cell_type": "markdown",
   "id": "58cf94dc-b726-44ee-bc76-985c7c9b03a8",
   "metadata": {},
   "source": [
    "---"
   ]
  }
 ],
 "metadata": {
  "kernelspec": {
   "display_name": "Python 3 (ipykernel)",
   "language": "python",
   "name": "python3"
  },
  "language_info": {
   "codemirror_mode": {
    "name": "ipython",
    "version": 3
   },
   "file_extension": ".py",
   "mimetype": "text/x-python",
   "name": "python",
   "nbconvert_exporter": "python",
   "pygments_lexer": "ipython3",
   "version": "3.13.5"
  }
 },
 "nbformat": 4,
 "nbformat_minor": 5
}
